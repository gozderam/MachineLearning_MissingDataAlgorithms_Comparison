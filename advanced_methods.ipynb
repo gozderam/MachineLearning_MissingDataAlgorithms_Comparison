{
 "cells": [
  {
   "cell_type": "code",
   "execution_count": 32,
   "metadata": {},
   "outputs": [],
   "source": [
    "import numpy as np\n",
    "import pandas as pd\n",
    "from sklearn.impute import SimpleImputer\n",
    "from sklearn.svm import OneClassSVM\n",
    "from sklearn.ensemble import IsolationForest\n",
    "from sklearn.neighbors import LocalOutlierFactor\n",
    "from sklearn.metrics import accuracy_score, roc_auc_score, precision_score, recall_score, f1_score\n",
    "from sklearn.preprocessing import MinMaxScaler\n",
    "import matplotlib.pyplot as plt\n",
    "\n",
    "np.random.seed(42)"
   ]
  },
  {
   "cell_type": "markdown",
   "metadata": {},
   "source": [
    "## Loading and preparing data"
   ]
  },
  {
   "cell_type": "markdown",
   "metadata": {},
   "source": [
    "### Wisconsin Breast Cancer"
   ]
  },
  {
   "cell_type": "code",
   "execution_count": 15,
   "metadata": {},
   "outputs": [],
   "source": [
    "# loading data\n",
    "cancer_data = pd.read_csv(\"data/breast-cancer-wisconsin.data\", header = None)\n",
    "\n",
    "# missing values imputation\n",
    "cancer_data = cancer_data.replace(\"?\", np.NaN)\n",
    "median_imputer = SimpleImputer(missing_values=np.NaN, strategy=\"median\").fit(cancer_data)\n",
    "cancer_data = pd.DataFrame(median_imputer.transform(cancer_data), columns = cancer_data.columns)\n",
    "\n",
    "# splitting \n",
    "cancer_X = cancer_data.iloc[:, :-1]\n",
    "cancer_y = cancer_data.iloc[:, -1]\n",
    "\n",
    "# transforming y\n",
    "cancer_y = cancer_y.replace(2, 1).replace(4, -1)\n",
    "\n",
    "# all columns are numeric\n",
    "assert(np.all(cancer_X.apply(lambda col: pd.api.types.is_numeric_dtype(col))))"
   ]
  },
  {
   "cell_type": "markdown",
   "metadata": {},
   "source": [
    "### Ionosphere"
   ]
  },
  {
   "cell_type": "code",
   "execution_count": 16,
   "metadata": {},
   "outputs": [],
   "source": [
    "# loading data\n",
    "iono_data = pd.read_csv(\"data/ionosphere.data\", header = None)\n",
    "\n",
    "# no missing values\n",
    "assert(np.all(iono_data != \"?\"))\n",
    "assert(np.all(iono_data != np.NaN))\n",
    "assert(np.all(iono_data != \" \"))\n",
    "assert(np.all(iono_data != \"\"))\n",
    "\n",
    "# splitting \n",
    "iono_X = iono_data.iloc[:, :-1]\n",
    "iono_y = iono_data.iloc[:, -1]\n",
    "\n",
    "# transforming y\n",
    "iono_y = iono_y.replace(\"g\", 1).replace(\"b\", -1)\n",
    "\n",
    "# all columns are numeric\n",
    "assert(np.all(iono_X.apply(lambda col: pd.api.types.is_numeric_dtype(col))))"
   ]
  },
  {
   "cell_type": "markdown",
   "metadata": {},
   "source": [
    "### Arrhythmia"
   ]
  },
  {
   "cell_type": "code",
   "execution_count": 17,
   "metadata": {},
   "outputs": [],
   "source": [
    "# loading data\n",
    "arryth_data =  pd.read_csv(\"data/arrhythmia.data\", header = None)\n",
    "\n",
    "# missing values imputation\n",
    "arryth_data = arryth_data.replace(\"?\", np.NaN)\n",
    "median_imputer = SimpleImputer(missing_values=np.NaN, strategy=\"median\").fit(arryth_data)\n",
    "arryth_data = pd.DataFrame(median_imputer.transform(arryth_data), columns = arryth_data.columns)\n",
    "\n",
    "# splitting \n",
    "arryth_X = arryth_data.iloc[:, :-1]\n",
    "arryth_y = arryth_data.iloc[:, -1]\n",
    "\n",
    "# transforming y\n",
    "arryth_y = arryth_y.replace([3, 4, 5, 6, 8, 9, 14, 15], -1)\n",
    "arryth_y = arryth_y.replace(arryth_y.unique()[arryth_y.unique()!=-1], 1) \n",
    "\n",
    "# all columns are numeric\n",
    "assert(np.all(arryth_X.apply(lambda col: pd.api.types.is_numeric_dtype(col))))"
   ]
  },
  {
   "cell_type": "markdown",
   "metadata": {},
   "source": [
    "### Satelitte"
   ]
  },
  {
   "cell_type": "code",
   "execution_count": 18,
   "metadata": {},
   "outputs": [],
   "source": [
    "# loading data \n",
    "sat_data =  pd.read_csv(\"data/sat.trn\", header = None, sep=\" \")\n",
    "\n",
    "# no missing values\n",
    "assert(np.all(sat_data != \"?\"))\n",
    "assert(np.all(sat_data != np.NaN))\n",
    "assert(np.all(sat_data != \" \"))\n",
    "assert(np.all(sat_data != \"\"))\n",
    "\n",
    "# splitting \n",
    "sat_X = sat_data.iloc[:, :-1]\n",
    "sat_y = sat_data.iloc[:, -1]\n",
    "\n",
    "# transforming y\n",
    "sat_y[sat_y.isin(list(sat_y.value_counts().index)[-3:])] = -1\n",
    "sat_y = sat_y.replace(sat_y.unique()[sat_y.unique()!=-1], 1) \n",
    "\n",
    "# all columns are numeric\n",
    "assert(np.all(sat_X.apply(lambda col: pd.api.types.is_numeric_dtype(col))))"
   ]
  },
  {
   "cell_type": "markdown",
   "metadata": {},
   "source": [
    "### Shuttle"
   ]
  },
  {
   "cell_type": "code",
   "execution_count": 19,
   "metadata": {},
   "outputs": [],
   "source": [
    "# loading data \n",
    "shut_data =  pd.read_csv(\"data/shuttle.trn\", header = None, sep=\" \")\n",
    "\n",
    "# no missing values\n",
    "assert(np.all(shut_data != \"?\"))\n",
    "assert(np.all(shut_data != np.NaN))\n",
    "assert(np.all(shut_data != \" \"))\n",
    "assert(np.all(shut_data != \"\"))\n",
    "\n",
    "# splitting \n",
    "shut_X= shut_data.iloc[:, :-1]\n",
    "shut_y = shut_data.iloc[:, -1]\n",
    "\n",
    "# transforming y\n",
    "shut_y = shut_y.replace([2, 3, 5, 6, 7], -1)\n",
    "shut_y = shut_y.replace(shut_y.unique()[shut_y.unique()!=-1], 1)\n",
    "\n",
    "# all columns are numeric\n",
    "assert(np.all(shut_X.apply(lambda col: pd.api.types.is_numeric_dtype(col))))"
   ]
  },
  {
   "cell_type": "markdown",
   "metadata": {},
   "source": [
    "# Results definition"
   ]
  },
  {
   "cell_type": "code",
   "execution_count": 20,
   "metadata": {},
   "outputs": [],
   "source": [
    "datasets = [\"cancer\", \"ionosphere\", \"arrhythmia\", \"satelitte\", \"shuttle\"]\n",
    "X_data = [cancer_X, iono_X, arryth_X, sat_X, shut_X]\n",
    "y_data = [cancer_y, iono_y, arryth_y, sat_y, shut_y]\n",
    "\n",
    "algs = {\n",
    "    \"one-class SVM\": OneClassSVM(nu=0.1, gamma=0.5),\n",
    "    \"isolation forest\": IsolationForest(),\n",
    "    \"local outlier factor\": LocalOutlierFactor(n_neighbors=2, novelty = True),\n",
    "}\n",
    "\n",
    "acc = pd.DataFrame(np.zeros((5, 3)), index = datasets, columns = algs.keys())\n",
    "auc = pd.DataFrame(np.zeros((5, 3)), index = datasets, columns = algs.keys())\n",
    "precision = pd.DataFrame(np.zeros((5, 3)), index = datasets, columns = algs.keys())\n",
    "recall = pd.DataFrame(np.zeros((5, 3)), index = datasets, columns = algs.keys())\n",
    "f1score = pd.DataFrame(np.zeros((5, 3)), index = datasets, columns = algs.keys())\n",
    "\n",
    "scaler = MinMaxScaler() #  gives better performances and speeds up the process of outlier detection "
   ]
  },
  {
   "cell_type": "code",
   "execution_count": 21,
   "metadata": {},
   "outputs": [
    {
     "name": "stdout",
     "output_type": "stream",
     "text": [
      "\tdataset: cancer\n",
      "\t   alg: one-class SVM\n",
      "\t   alg: isolation forest\n",
      "\t   alg: local outlier factor\n",
      "\tdataset: ionosphere\n",
      "\t   alg: one-class SVM\n",
      "\t   alg: isolation forest\n",
      "\t   alg: local outlier factor\n",
      "\tdataset: arrhythmia\n",
      "\t   alg: one-class SVM\n",
      "\t   alg: isolation forest\n",
      "\t   alg: local outlier factor\n",
      "\tdataset: satelitte\n",
      "\t   alg: one-class SVM\n",
      "\t   alg: isolation forest\n",
      "\t   alg: local outlier factor\n",
      "\tdataset: shuttle\n",
      "\t   alg: one-class SVM\n",
      "\t   alg: isolation forest\n",
      "\t   alg: local outlier factor\n"
     ]
    }
   ],
   "source": [
    "for i in range(len(datasets)):\n",
    "    dataset = datasets[i]\n",
    "    X = X_data[i]\n",
    "    y = y_data[i]\n",
    "    print(f\"\\tdataset: {dataset}\")\n",
    "    for alg_name, alg in algs.items():\n",
    "        print(f\"\\t   alg: {alg_name}\")\n",
    "        X = scaler.fit_transform(X)\n",
    "        alg.fit(X)\n",
    "        y_hat = alg.predict(X)\n",
    "        acc.at[dataset, alg_name] = accuracy_score(y, y_hat)\n",
    "        auc.at[dataset, alg_name] = roc_auc_score(y, alg.decision_function(X))\n",
    "        precision.at[dataset, alg_name] = precision_score(y, y_hat)\n",
    "        recall.at[dataset, alg_name] = recall_score(y, y_hat)\n",
    "        f1score.at[dataset, alg_name] = f1_score(y, y_hat)"
   ]
  },
  {
   "cell_type": "code",
   "execution_count": 24,
   "metadata": {},
   "outputs": [
    {
     "data": {
      "text/html": [
       "<div>\n",
       "<style scoped>\n",
       "    .dataframe tbody tr th:only-of-type {\n",
       "        vertical-align: middle;\n",
       "    }\n",
       "\n",
       "    .dataframe tbody tr th {\n",
       "        vertical-align: top;\n",
       "    }\n",
       "\n",
       "    .dataframe thead th {\n",
       "        text-align: right;\n",
       "    }\n",
       "</style>\n",
       "<table border=\"1\" class=\"dataframe\">\n",
       "  <thead>\n",
       "    <tr style=\"text-align: right;\">\n",
       "      <th></th>\n",
       "      <th>one-class SVM</th>\n",
       "      <th>isolation forest</th>\n",
       "      <th>local outlier factor</th>\n",
       "    </tr>\n",
       "  </thead>\n",
       "  <tbody>\n",
       "    <tr>\n",
       "      <th>cancer</th>\n",
       "      <td>0.701001</td>\n",
       "      <td>0.952790</td>\n",
       "      <td>0.542203</td>\n",
       "    </tr>\n",
       "    <tr>\n",
       "      <th>ionosphere</th>\n",
       "      <td>0.732194</td>\n",
       "      <td>0.823362</td>\n",
       "      <td>0.766382</td>\n",
       "    </tr>\n",
       "    <tr>\n",
       "      <th>arrhythmia</th>\n",
       "      <td>0.734513</td>\n",
       "      <td>0.807522</td>\n",
       "      <td>0.794248</td>\n",
       "    </tr>\n",
       "    <tr>\n",
       "      <th>satelitte</th>\n",
       "      <td>0.718151</td>\n",
       "      <td>0.790530</td>\n",
       "      <td>0.693799</td>\n",
       "    </tr>\n",
       "    <tr>\n",
       "      <th>shuttle</th>\n",
       "      <td>0.936460</td>\n",
       "      <td>0.941448</td>\n",
       "      <td>0.894506</td>\n",
       "    </tr>\n",
       "  </tbody>\n",
       "</table>\n",
       "</div>"
      ],
      "text/plain": [
       "            one-class SVM  isolation forest  local outlier factor\n",
       "cancer           0.701001          0.952790              0.542203\n",
       "ionosphere       0.732194          0.823362              0.766382\n",
       "arrhythmia       0.734513          0.807522              0.794248\n",
       "satelitte        0.718151          0.790530              0.693799\n",
       "shuttle          0.936460          0.941448              0.894506"
      ]
     },
     "execution_count": 24,
     "metadata": {},
     "output_type": "execute_result"
    }
   ],
   "source": [
    "acc"
   ]
  },
  {
   "cell_type": "code",
   "execution_count": 46,
   "metadata": {},
   "outputs": [
    {
     "data": {
      "text/plain": [
       "<AxesSubplot:ylabel='accuracy'>"
      ]
     },
     "execution_count": 46,
     "metadata": {},
     "output_type": "execute_result"
    },
    {
     "data": {
      "image/png": "[encoded data removed]",
      "text/plain": [
       "<Figure size 720x432 with 1 Axes>"
      ]
     },
     "metadata": {
      "needs_background": "light"
     },
     "output_type": "display_data"
    }
   ],
   "source": [
    "acc.plot.bar(figsize=(10,6), ylabel=\"accuracy\")"
   ]
  },
  {
   "cell_type": "code",
   "execution_count": 25,
   "metadata": {},
   "outputs": [
    {
     "data": {
      "text/html": [
       "<div>\n",
       "<style scoped>\n",
       "    .dataframe tbody tr th:only-of-type {\n",
       "        vertical-align: middle;\n",
       "    }\n",
       "\n",
       "    .dataframe tbody tr th {\n",
       "        vertical-align: top;\n",
       "    }\n",
       "\n",
       "    .dataframe thead th {\n",
       "        text-align: right;\n",
       "    }\n",
       "</style>\n",
       "<table border=\"1\" class=\"dataframe\">\n",
       "  <thead>\n",
       "    <tr style=\"text-align: right;\">\n",
       "      <th></th>\n",
       "      <th>one-class SVM</th>\n",
       "      <th>isolation forest</th>\n",
       "      <th>local outlier factor</th>\n",
       "    </tr>\n",
       "  </thead>\n",
       "  <tbody>\n",
       "    <tr>\n",
       "      <th>cancer</th>\n",
       "      <td>0.385050</td>\n",
       "      <td>0.985821</td>\n",
       "      <td>0.465143</td>\n",
       "    </tr>\n",
       "    <tr>\n",
       "      <th>ionosphere</th>\n",
       "      <td>0.759859</td>\n",
       "      <td>0.868501</td>\n",
       "      <td>0.778589</td>\n",
       "    </tr>\n",
       "    <tr>\n",
       "      <th>arrhythmia</th>\n",
       "      <td>0.655189</td>\n",
       "      <td>0.711601</td>\n",
       "      <td>0.542926</td>\n",
       "    </tr>\n",
       "    <tr>\n",
       "      <th>satelitte</th>\n",
       "      <td>0.534881</td>\n",
       "      <td>0.716785</td>\n",
       "      <td>0.459135</td>\n",
       "    </tr>\n",
       "    <tr>\n",
       "      <th>shuttle</th>\n",
       "      <td>0.937444</td>\n",
       "      <td>0.994785</td>\n",
       "      <td>0.503793</td>\n",
       "    </tr>\n",
       "  </tbody>\n",
       "</table>\n",
       "</div>"
      ],
      "text/plain": [
       "            one-class SVM  isolation forest  local outlier factor\n",
       "cancer           0.385050          0.985821              0.465143\n",
       "ionosphere       0.759859          0.868501              0.778589\n",
       "arrhythmia       0.655189          0.711601              0.542926\n",
       "satelitte        0.534881          0.716785              0.459135\n",
       "shuttle          0.937444          0.994785              0.503793"
      ]
     },
     "execution_count": 25,
     "metadata": {},
     "output_type": "execute_result"
    }
   ],
   "source": [
    "auc"
   ]
  },
  {
   "cell_type": "code",
   "execution_count": 47,
   "metadata": {},
   "outputs": [
    {
     "data": {
      "text/plain": [
       "<AxesSubplot:ylabel='AUC'>"
      ]
     },
     "execution_count": 47,
     "metadata": {},
     "output_type": "execute_result"
    },
    {
     "data": {
      "image/png": "[encoded data removed]",
      "text/plain": [
       "<Figure size 720x432 with 1 Axes>"
      ]
     },
     "metadata": {
      "needs_background": "light"
     },
     "output_type": "display_data"
    }
   ],
   "source": [
    "auc.plot.bar(figsize=(10,6), ylabel=\"AUC\")"
   ]
  },
  {
   "cell_type": "code",
   "execution_count": 26,
   "metadata": {},
   "outputs": [
    {
     "data": {
      "text/html": [
       "<div>\n",
       "<style scoped>\n",
       "    .dataframe tbody tr th:only-of-type {\n",
       "        vertical-align: middle;\n",
       "    }\n",
       "\n",
       "    .dataframe tbody tr th {\n",
       "        vertical-align: top;\n",
       "    }\n",
       "\n",
       "    .dataframe thead th {\n",
       "        text-align: right;\n",
       "    }\n",
       "</style>\n",
       "<table border=\"1\" class=\"dataframe\">\n",
       "  <thead>\n",
       "    <tr style=\"text-align: right;\">\n",
       "      <th></th>\n",
       "      <th>one-class SVM</th>\n",
       "      <th>isolation forest</th>\n",
       "      <th>local outlier factor</th>\n",
       "    </tr>\n",
       "  </thead>\n",
       "  <tbody>\n",
       "    <tr>\n",
       "      <th>cancer</th>\n",
       "      <td>0.697933</td>\n",
       "      <td>0.977528</td>\n",
       "      <td>0.611650</td>\n",
       "    </tr>\n",
       "    <tr>\n",
       "      <th>ionosphere</th>\n",
       "      <td>0.710611</td>\n",
       "      <td>0.812261</td>\n",
       "      <td>0.776062</td>\n",
       "    </tr>\n",
       "    <tr>\n",
       "      <th>arrhythmia</th>\n",
       "      <td>0.821053</td>\n",
       "      <td>0.812641</td>\n",
       "      <td>0.811494</td>\n",
       "    </tr>\n",
       "    <tr>\n",
       "      <th>satelitte</th>\n",
       "      <td>0.728253</td>\n",
       "      <td>0.788991</td>\n",
       "      <td>0.693385</td>\n",
       "    </tr>\n",
       "    <tr>\n",
       "      <th>shuttle</th>\n",
       "      <td>0.986488</td>\n",
       "      <td>0.998958</td>\n",
       "      <td>0.940251</td>\n",
       "    </tr>\n",
       "  </tbody>\n",
       "</table>\n",
       "</div>"
      ],
      "text/plain": [
       "            one-class SVM  isolation forest  local outlier factor\n",
       "cancer           0.697933          0.977528              0.611650\n",
       "ionosphere       0.710611          0.812261              0.776062\n",
       "arrhythmia       0.821053          0.812641              0.811494\n",
       "satelitte        0.728253          0.788991              0.693385\n",
       "shuttle          0.986488          0.998958              0.940251"
      ]
     },
     "execution_count": 26,
     "metadata": {},
     "output_type": "execute_result"
    }
   ],
   "source": [
    "precision"
   ]
  },
  {
   "cell_type": "code",
   "execution_count": 48,
   "metadata": {},
   "outputs": [
    {
     "data": {
      "text/plain": [
       "<AxesSubplot:ylabel='precision'>"
      ]
     },
     "execution_count": 48,
     "metadata": {},
     "output_type": "execute_result"
    },
    {
     "data": {
      "image/png": "[encoded data removed]",
      "text/plain": [
       "<Figure size 720x432 with 1 Axes>"
      ]
     },
     "metadata": {
      "needs_background": "light"
     },
     "output_type": "display_data"
    }
   ],
   "source": [
    "precision.plot.bar(figsize=(10,6), ylabel=\"precision\")"
   ]
  },
  {
   "cell_type": "code",
   "execution_count": 49,
   "metadata": {},
   "outputs": [
    {
     "data": {
      "text/html": [
       "<div>\n",
       "<style scoped>\n",
       "    .dataframe tbody tr th:only-of-type {\n",
       "        vertical-align: middle;\n",
       "    }\n",
       "\n",
       "    .dataframe tbody tr th {\n",
       "        vertical-align: top;\n",
       "    }\n",
       "\n",
       "    .dataframe thead th {\n",
       "        text-align: right;\n",
       "    }\n",
       "</style>\n",
       "<table border=\"1\" class=\"dataframe\">\n",
       "  <thead>\n",
       "    <tr style=\"text-align: right;\">\n",
       "      <th></th>\n",
       "      <th>one-class SVM</th>\n",
       "      <th>isolation forest</th>\n",
       "      <th>local outlier factor</th>\n",
       "    </tr>\n",
       "  </thead>\n",
       "  <tbody>\n",
       "    <tr>\n",
       "      <th>cancer</th>\n",
       "      <td>0.958515</td>\n",
       "      <td>0.949782</td>\n",
       "      <td>0.825328</td>\n",
       "    </tr>\n",
       "    <tr>\n",
       "      <th>ionosphere</th>\n",
       "      <td>0.982222</td>\n",
       "      <td>0.942222</td>\n",
       "      <td>0.893333</td>\n",
       "    </tr>\n",
       "    <tr>\n",
       "      <th>arrhythmia</th>\n",
       "      <td>0.857143</td>\n",
       "      <td>0.989011</td>\n",
       "      <td>0.969780</td>\n",
       "    </tr>\n",
       "    <tr>\n",
       "      <th>satelitte</th>\n",
       "      <td>0.945946</td>\n",
       "      <td>0.952133</td>\n",
       "      <td>1.000000</td>\n",
       "    </tr>\n",
       "    <tr>\n",
       "      <th>shuttle</th>\n",
       "      <td>0.945296</td>\n",
       "      <td>0.938638</td>\n",
       "      <td>0.947915</td>\n",
       "    </tr>\n",
       "  </tbody>\n",
       "</table>\n",
       "</div>"
      ],
      "text/plain": [
       "            one-class SVM  isolation forest  local outlier factor\n",
       "cancer           0.958515          0.949782              0.825328\n",
       "ionosphere       0.982222          0.942222              0.893333\n",
       "arrhythmia       0.857143          0.989011              0.969780\n",
       "satelitte        0.945946          0.952133              1.000000\n",
       "shuttle          0.945296          0.938638              0.947915"
      ]
     },
     "execution_count": 49,
     "metadata": {},
     "output_type": "execute_result"
    }
   ],
   "source": [
    "recall"
   ]
  },
  {
   "cell_type": "code",
   "execution_count": 50,
   "metadata": {},
   "outputs": [
    {
     "data": {
      "text/plain": [
       "<AxesSubplot:ylabel='recall'>"
      ]
     },
     "execution_count": 50,
     "metadata": {},
     "output_type": "execute_result"
    },
    {
     "data": {
      "image/png": "[encoded data removed]",
      "text/plain": [
       "<Figure size 720x432 with 1 Axes>"
      ]
     },
     "metadata": {
      "needs_background": "light"
     },
     "output_type": "display_data"
    }
   ],
   "source": [
    "recall.plot.bar(figsize=(10,6), ylabel=\"recall\")"
   ]
  },
  {
   "cell_type": "code",
   "execution_count": 28,
   "metadata": {},
   "outputs": [
    {
     "data": {
      "text/html": [
       "<div>\n",
       "<style scoped>\n",
       "    .dataframe tbody tr th:only-of-type {\n",
       "        vertical-align: middle;\n",
       "    }\n",
       "\n",
       "    .dataframe tbody tr th {\n",
       "        vertical-align: top;\n",
       "    }\n",
       "\n",
       "    .dataframe thead th {\n",
       "        text-align: right;\n",
       "    }\n",
       "</style>\n",
       "<table border=\"1\" class=\"dataframe\">\n",
       "  <thead>\n",
       "    <tr style=\"text-align: right;\">\n",
       "      <th></th>\n",
       "      <th>one-class SVM</th>\n",
       "      <th>isolation forest</th>\n",
       "      <th>local outlier factor</th>\n",
       "    </tr>\n",
       "  </thead>\n",
       "  <tbody>\n",
       "    <tr>\n",
       "      <th>cancer</th>\n",
       "      <td>0.807728</td>\n",
       "      <td>0.963455</td>\n",
       "      <td>0.702602</td>\n",
       "    </tr>\n",
       "    <tr>\n",
       "      <th>ionosphere</th>\n",
       "      <td>0.824627</td>\n",
       "      <td>0.872428</td>\n",
       "      <td>0.830579</td>\n",
       "    </tr>\n",
       "    <tr>\n",
       "      <th>arrhythmia</th>\n",
       "      <td>0.838710</td>\n",
       "      <td>0.892193</td>\n",
       "      <td>0.883605</td>\n",
       "    </tr>\n",
       "    <tr>\n",
       "      <th>satelitte</th>\n",
       "      <td>0.822946</td>\n",
       "      <td>0.862919</td>\n",
       "      <td>0.818933</td>\n",
       "    </tr>\n",
       "    <tr>\n",
       "      <th>shuttle</th>\n",
       "      <td>0.965453</td>\n",
       "      <td>0.967859</td>\n",
       "      <td>0.944067</td>\n",
       "    </tr>\n",
       "  </tbody>\n",
       "</table>\n",
       "</div>"
      ],
      "text/plain": [
       "            one-class SVM  isolation forest  local outlier factor\n",
       "cancer           0.807728          0.963455              0.702602\n",
       "ionosphere       0.824627          0.872428              0.830579\n",
       "arrhythmia       0.838710          0.892193              0.883605\n",
       "satelitte        0.822946          0.862919              0.818933\n",
       "shuttle          0.965453          0.967859              0.944067"
      ]
     },
     "execution_count": 28,
     "metadata": {},
     "output_type": "execute_result"
    }
   ],
   "source": [
    "f1score"
   ]
  },
  {
   "cell_type": "code",
   "execution_count": 51,
   "metadata": {},
   "outputs": [
    {
     "data": {
      "text/plain": [
       "<AxesSubplot:ylabel='f1score'>"
      ]
     },
     "execution_count": 51,
     "metadata": {},
     "output_type": "execute_result"
    },
    {
     "data": {
      "image/png": "[encoded data removed]",
      "text/plain": [
       "<Figure size 720x432 with 1 Axes>"
      ]
     },
     "metadata": {
      "needs_background": "light"
     },
     "output_type": "display_data"
    }
   ],
   "source": [
    "f1score.plot.bar(figsize=(10,6), ylabel=\"f1score\")"
   ]
  },
  {
   "cell_type": "markdown",
   "metadata": {},
   "source": [
    "As can be seen in the above tables and plots, the best performing method to detect outliers is Isolation Forest. For all datasets, it achieved the best accuracy, AUC, recall, precision and Fscore. Since the classes (outliers vs the rest of the observations) are unbalanced, analyzing only the accuracy can lead to incorrect interpretations. That is why I also introduce AUC, precision, recall and F-score. \n",
    "\n",
    "A bit better option (than accuracy) is the AUC metric which is threshold-invariant and does not care about how many positive and negative cases there are in the dataset. For $\\textit{cacner}$ and $\\textit{shuttle}$ datasets and Isolation Forest, the AUC is really high (almost 1) which means the outliers are detected accurately. On the other datasets, Isolation Forest also has an AUC value higher than 0.5, so we can expect it can detect outliers quite well. The AUC metric is reflected in the accuracy measure for Isolation Forest.\n",
    "\n",
    "Local Outlier Factor usually performs rather poorly (apart from $\\textit{ionosphere}$ dataset). The value of 0.5 means that the outlier detection is performed rather in a random manner or giving a constant label for each data point. \n",
    "\n",
    "One-class SVM, for some datasets performs similarly to Isolation Forest, but there are also datasets for which its AUC is around 0.5 ($\\textit{cancer}$, $\\textit{satelite}$).\n",
    "\n",
    "All algorithms have a high recall, meaning they can detect positive cases (outliers) successfully. Looking at the precision suggests that some of the positive predictions are false. Combined results are visible on the f1score plot. \n",
    "\n",
    "An interesting thing can be seen for the Local Outlier Factor and $\\textit{shuttle}$ dataset. The accuracy is really high and at the same time, AUC is around 0.5 meaning the outlier detection is not successful. \n",
    "\n",
    "To sum up, the best method to detect outliers is the Isolation Forest. The local Outlier Factor may work better for cases we want to identify outliers of a cluster (local area)."
   ]
  }
 ],
 "metadata": {
  "interpreter": {
   "hash": "602e21c0fb692fabe000a01e4c0faf87a953338e787ac652606d45c48434bd7c"
  },
  "kernelspec": {
   "display_name": "Python 3.9.7 ('dev_proj')",
   "language": "python",
   "name": "python3"
  },
  "language_info": {
   "codemirror_mode": {
    "name": "ipython",
    "version": 3
   },
   "file_extension": ".py",
   "mimetype": "text/x-python",
   "name": "python",
   "nbconvert_exporter": "python",
   "pygments_lexer": "ipython3",
   "version": "3.9.7"
  },
  "orig_nbformat": 4
 },
 "nbformat": 4,
 "nbformat_minor": 2
}
